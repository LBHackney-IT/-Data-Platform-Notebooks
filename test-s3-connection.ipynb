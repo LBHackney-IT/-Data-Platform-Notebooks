{
 "cells": [
  {
   "cell_type": "code",
   "execution_count": 4,
   "id": "357249a5",
   "metadata": {},
   "outputs": [
    {
     "data": {
      "application/vnd.jupyter.widget-view+json": {
       "model_id": "",
       "version_major": 2,
       "version_minor": 0
      },
      "text/plain": [
       "FloatProgress(value=0.0, bar_style='info', description='Progress:', layout=Layout(height='25px', width='50%'),…"
      ]
     },
     "metadata": {},
     "output_type": "display_data"
    },
    {
     "name": "stdout",
     "output_type": "stream",
     "text": [
      "[{u'LastModified': datetime.datetime(2022, 2, 7, 15, 59, 34, tzinfo=tzlocal()), u'ETag': '\"d30ac02aafddfb04743f645c362bbb1c\"', u'StorageClass': 'STANDARD', u'Key': 'parking/manual/test-csv/output-onlinerandomtools.csv', u'Size': 378}]"
     ]
    }
   ],
   "source": [
    "from pyspark import SparkContext\n",
    "import  boto3\n",
    "\n",
    "s3Client = boto3.client('s3')\n",
    "s3Bucket=\"dataplatform-emmacorbett-landing-zone\"\n",
    "# prefix = \"parking/manual\"\n",
    "\n",
    "objects = s3Client.list_objects_v2(\n",
    "    Bucket=s3Bucket\n",
    "#     Prefix=prefix\n",
    ")['Contents']\n",
    "\n",
    "nonEmptyObjects = list(filter(lambda x: x['Size'] != 0, objects))\n",
    "nonEmptyObjects[0:10]"
   ]
  },
  {
   "cell_type": "code",
   "execution_count": 9,
   "id": "2f23c831",
   "metadata": {},
   "outputs": [
    {
     "data": {
      "application/vnd.jupyter.widget-view+json": {
       "model_id": "",
       "version_major": 2,
       "version_minor": 0
      },
      "text/plain": [
       "FloatProgress(value=0.0, bar_style='info', description='Progress:', layout=Layout(height='25px', width='50%'),…"
      ]
     },
     "metadata": {},
     "output_type": "display_data"
    },
    {
     "name": "stdout",
     "output_type": "stream",
     "text": [
      "2.7.18 (default, Feb 18 2021, 06:10:44) \n",
      "[GCC 4.8.5 20150623 (Red Hat 4.8.5-28)]"
     ]
    }
   ],
   "source": [
    "import sys\n",
    "print(sys.version)"
   ]
  },
  {
   "cell_type": "code",
   "execution_count": 8,
   "id": "5ecca76d",
   "metadata": {},
   "outputs": [
    {
     "data": {
      "application/vnd.jupyter.widget-view+json": {
       "model_id": "",
       "version_major": 2,
       "version_minor": 0
      },
      "text/plain": [
       "FloatProgress(value=0.0, bar_style='info', description='Progress:', layout=Layout(height='25px', width='50%'),…"
      ]
     },
     "metadata": {},
     "output_type": "display_data"
    },
    {
     "name": "stderr",
     "output_type": "stream",
     "text": [
      "An error was encountered:\n",
      "invalid syntax (<stdin>, line 5)\n",
      "  File \"<stdin>\", line 5\n",
      "    connection_options = {\"paths\": [f\"s3://{s3Bucket}/{exampleObject}\"]},\n",
      "                                                                     ^\n",
      "SyntaxError: invalid syntax\n",
      "\n"
     ]
    }
   ],
   "source": [
    "exampleObject = nonEmptyObjects[0]\n",
    "glueContext = GlueContext(SparkContext.getOrCreate())\n",
    "inputDF = glueContext.create_dynamic_frame_from_options(\n",
    "    connection_type = \"s3\",\n",
    "    connection_options = {\"paths\": [f\"s3://{s3Bucket}/{exampleObject}\"]},\n",
    "    format = \"csv\",\n",
    "    format_options = { \"withHeader\": True }\n",
    ")\n",
    "\n",
    "inputDF.toDF().show(10)\n",
    "inputDF.toDF().columns"
   ]
  },
  {
   "cell_type": "code",
   "execution_count": null,
   "id": "9e34769d",
   "metadata": {},
   "outputs": [],
   "source": []
  },
  {
   "cell_type": "code",
   "execution_count": null,
   "id": "eee0683b",
   "metadata": {},
   "outputs": [],
   "source": []
  }
 ],
 "metadata": {
  "kernelspec": {
   "display_name": "Sparkmagic (PySpark)",
   "language": "python",
   "name": "pysparkkernel"
  },
  "language_info": {
   "codemirror_mode": {
    "name": "python",
    "version": 3
   },
   "file_extension": ".py",
   "mimetype": "text/x-python",
   "name": "pyspark",
   "pygments_lexer": "python3"
  }
 },
 "nbformat": 4,
 "nbformat_minor": 5
}
