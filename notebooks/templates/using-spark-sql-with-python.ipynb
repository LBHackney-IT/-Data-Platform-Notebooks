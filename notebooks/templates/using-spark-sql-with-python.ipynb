{
 "cells": [
  {
   "cell_type": "code",
   "execution_count": null,
   "id": "c96599f1",
   "metadata": {},
   "outputs": [],
   "source": [
    "from pyspark.context import SparkContext\n",
    "from awsglue.context import GlueContext\n",
    "\n",
    "glue_context = GlueContext(spark)"
   ]
  },
  {
   "cell_type": "code",
   "execution_count": null,
   "id": "886013ad",
   "metadata": {},
   "outputs": [],
   "source": [
    "database=\"parking-raw-zone\"\n",
    "\n",
    "df = glue_context.create_data_frame.from_catalog( \n",
    "    database = database, \n",
    "    table_name = \"eta_decision_records\", \n",
    "    transformation_ctx = \"eta_decision_records_source\")\n",
    "df.createOrReplaceTempView(\"eta_decision_records\")"
   ]
  },
  {
   "cell_type": "code",
   "execution_count": null,
   "id": "d818b873",
   "metadata": {},
   "outputs": [],
   "source": [
    "%%sql -o output_results -q\n",
    "SELECT * FROM eta_decision_records\n",
    "WHERE decision_i_e_dnc_appeal_allowed_appeal_rejected = 'Appeal Rejected'\n",
    "limit 10"
   ]
  },
  {
   "cell_type": "code",
   "execution_count": null,
   "id": "c2bfba9f",
   "metadata": {},
   "outputs": [],
   "source": [
    "%%local\n",
    "output_results.head()"
   ]
  }
 ],
 "metadata": {
  "kernelspec": {
   "display_name": "Sparkmagic (PySpark)",
   "language": "python",
   "name": "pysparkkernel"
  },
  "language_info": {
   "codemirror_mode": {
    "name": "python",
    "version": 3
   },
   "file_extension": ".py",
   "mimetype": "text/x-python",
   "name": "pyspark",
   "pygments_lexer": "python3"
  }
 },
 "nbformat": 4,
 "nbformat_minor": 5
}
