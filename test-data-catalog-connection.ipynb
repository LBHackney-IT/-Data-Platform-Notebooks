{
 "cells": [
  {
   "cell_type": "code",
   "execution_count": null,
   "id": "45b4a24a",
   "metadata": {},
   "outputs": [],
   "source": [
    "from pyspark import SparkContext\n",
    "import  boto3\n",
    "\n",
    "database=\"dataplatform-emmacorbett-landing-zone-database\"\n",
    "table_name=\"mtfh_tenureinformation\""
   ]
  },
  {
   "cell_type": "code",
   "execution_count": null,
   "id": "2a6de5ca",
   "metadata": {},
   "outputs": [],
   "source": [
    "from pyspark.context import SparkContext\n",
    "from awsglue.context import GlueContext\n",
    "glue_context = GlueContext(spark)\n",
    "\n",
    "inputDF = glue_context.create_data_frame.from_catalog( \n",
    "    database = database, \n",
    "    table_name = table_name, \n",
    "    transformation_ctx = f\"{table_name}_source2\")"
   ]
  },
  {
   "cell_type": "code",
   "execution_count": null,
   "id": "efa2798a",
   "metadata": {},
   "outputs": [],
   "source": [
    "inputDF.show(10)\n",
    "inputDF.columns"
   ]
  }
 ],
 "metadata": {
  "kernelspec": {
   "display_name": "Sparkmagic (PySpark)",
   "language": "python",
   "name": "pysparkkernel"
  },
  "language_info": {
   "codemirror_mode": {
    "name": "python",
    "version": 3
   },
   "file_extension": ".py",
   "mimetype": "text/x-python",
   "name": "pyspark",
   "pygments_lexer": "python3"
  }
 },
 "nbformat": 4,
 "nbformat_minor": 5
}
