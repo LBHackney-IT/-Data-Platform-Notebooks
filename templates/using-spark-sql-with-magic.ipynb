{
 "cells": [
  {
   "cell_type": "code",
   "execution_count": null,
   "id": "1f347cf4",
   "metadata": {},
   "outputs": [],
   "source": [
    "from pyspark.context import SparkContext\n",
    "from awsglue.context import GlueContext\n",
    "\n",
    "glue_context = GlueContext(spark)"
   ]
  },
  {
   "cell_type": "code",
   "execution_count": null,
   "id": "b03cc18d",
   "metadata": {},
   "outputs": [],
   "source": [
    "database=\"dataplatform-emmacorbett-landing-zone-database\"\n",
    "table_name=\"mtfh_tenureinformation\"\n",
    "df = glue_context.create_data_frame.from_catalog( \n",
    "    database = database, \n",
    "    table_name = table_name, \n",
    "    transformation_ctx = f\"{table_name}_source2\")\n",
    "df.createOrReplaceTempView(\"tenures\")"
   ]
  },
  {
   "cell_type": "code",
   "execution_count": null,
   "id": "dc16d7bc",
   "metadata": {},
   "outputs": [],
   "source": [
    "sqlDF = spark.sql(\"SELECT * FROM tenures limit 10\")"
   ]
  },
  {
   "cell_type": "code",
   "execution_count": null,
   "id": "7ecf544a",
   "metadata": {},
   "outputs": [],
   "source": [
    "sqlDF.show()"
   ]
  }
 ],
 "metadata": {
  "kernelspec": {
   "display_name": "Sparkmagic (PySpark)",
   "language": "python",
   "name": "pysparkkernel"
  },
  "language_info": {
   "codemirror_mode": {
    "name": "python",
    "version": 3
   },
   "file_extension": ".py",
   "mimetype": "text/x-python",
   "name": "pyspark",
   "pygments_lexer": "python3"
  }
 },
 "nbformat": 4,
 "nbformat_minor": 5
}
