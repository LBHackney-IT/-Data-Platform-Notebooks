{
 "cells": [
  {
   "cell_type": "code",
   "execution_count": null,
   "id": "c396a0ff",
   "metadata": {},
   "outputs": [],
   "source": [
    "from pyspark.context import SparkContext\n",
    "from awsglue.context import GlueContext\n",
    "\n",
    "glue_context = GlueContext(spark)"
   ]
  },
  {
   "cell_type": "code",
   "execution_count": null,
   "id": "b98116a0",
   "metadata": {},
   "outputs": [],
   "source": [
    "database=\"dataplatform-stg-raw-zone-database\"\n",
    "table_name=\"\"\n",
    "df = glue_context.create_data_frame.from_catalog( \n",
    "    database = database, \n",
    "    table_name = table_name, \n",
    "    transformation_ctx = f\"{table_name}_source2\")\n",
    "df.createOrReplaceTempView(table_name)"
   ]
  },
  {
   "cell_type": "code",
   "execution_count": null,
   "id": "f19c1509",
   "metadata": {},
   "outputs": [],
   "source": [
    "sqlDF = spark.sql(f'''\n",
    "SELECT * FROM {table_name}\n",
    "limit 10\n",
    "''')"
   ]
  },
  {
   "cell_type": "code",
   "execution_count": null,
   "id": "6f2510ba",
   "metadata": {},
   "outputs": [],
   "source": [
    "sqlDF.show()"
   ]
  }
 ],
 "metadata": {
  "kernelspec": {
   "display_name": "Sparkmagic (PySpark)",
   "language": "python",
   "name": "pysparkkernel"
  },
  "language_info": {
   "codemirror_mode": {
    "name": "python",
    "version": 3
   },
   "file_extension": ".py",
   "mimetype": "text/x-python",
   "name": "pyspark",
   "pygments_lexer": "python3"
  }
 },
 "nbformat": 4,
 "nbformat_minor": 5
}
