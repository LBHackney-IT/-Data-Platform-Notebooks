{
 "cells": [
  {
   "cell_type": "code",
   "execution_count": null,
   "id": "ebd43833",
   "metadata": {},
   "outputs": [],
   "source": [
    "from pyspark.context import SparkContext\n",
    "from awsglue.context import GlueContext\n",
    "\n",
    "glue_context = GlueContext(spark)"
   ]
  },
  {
   "cell_type": "code",
   "execution_count": null,
   "id": "bf56b75c",
   "metadata": {},
   "outputs": [],
   "source": [
    "database=\"dataplatform-emmacorbett-landing-zone-database\"\n",
    "table_name=\"mtfh_tenureinformation\"\n",
    "df = glue_context.create_data_frame.from_catalog( \n",
    "    database = database, \n",
    "    table_name = table_name, \n",
    "    transformation_ctx = f\"{table_name}_source2\")\n",
    "df.createOrReplaceTempView(\"tenures\")"
   ]
  },
  {
   "cell_type": "code",
   "execution_count": null,
   "id": "7ba30090",
   "metadata": {},
   "outputs": [],
   "source": [
    "%%sql -o tenures -q\n",
    "SELECT * FROM tenures limit 10"
   ]
  },
  {
   "cell_type": "code",
   "execution_count": null,
   "id": "107f851b",
   "metadata": {},
   "outputs": [],
   "source": [
    "%%local\n",
    "tenures.head()"
   ]
  }
 ],
 "metadata": {
  "kernelspec": {
   "display_name": "Sparkmagic (PySpark)",
   "language": "python",
   "name": "pysparkkernel"
  },
  "language_info": {
   "codemirror_mode": {
    "name": "python",
    "version": 3
   },
   "file_extension": ".py",
   "mimetype": "text/x-python",
   "name": "pyspark",
   "pygments_lexer": "python3"
  }
 },
 "nbformat": 4,
 "nbformat_minor": 5
}
