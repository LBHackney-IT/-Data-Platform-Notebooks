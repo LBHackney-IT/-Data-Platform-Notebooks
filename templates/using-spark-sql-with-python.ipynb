{
 "cells": [
  {
   "cell_type": "code",
   "execution_count": null,
   "id": "d9c0da5e",
   "metadata": {},
   "outputs": [],
   "source": [
    "from pyspark.context import SparkContext\n",
    "from awsglue.context import GlueContext\n",
    "\n",
    "glue_context = GlueContext(spark)"
   ]
  },
  {
   "cell_type": "code",
   "execution_count": null,
   "id": "ee0ac0b5",
   "metadata": {},
   "outputs": [],
   "source": [
    "database=\"dataplatform-stg-raw-zone-database\"\n",
    "table_name=\"\"\n",
    "df = glue_context.create_data_frame.from_catalog( \n",
    "    database = database, \n",
    "    table_name = table_name, \n",
    "    transformation_ctx = f\"{table_name}_source2\")\n",
    "df.createOrReplaceTempView(table_name)"
   ]
  },
  {
   "cell_type": "code",
   "execution_count": null,
   "id": "493219b1",
   "metadata": {},
   "outputs": [],
   "source": [
    "%%sql -o output_results -q\n",
    "# Change table_name to be the table name\n",
    "SELECT * FROM table_name limit 10"
   ]
  },
  {
   "cell_type": "code",
   "execution_count": null,
   "id": "4de6081e",
   "metadata": {},
   "outputs": [],
   "source": [
    "%%local\n",
    "output_results.head()"
   ]
  }
 ],
 "metadata": {
  "kernelspec": {
   "display_name": "Sparkmagic (PySpark)",
   "language": "python",
   "name": "pysparkkernel"
  },
  "language_info": {
   "codemirror_mode": {
    "name": "python",
    "version": 3
   },
   "file_extension": ".py",
   "mimetype": "text/x-python",
   "name": "pyspark",
   "pygments_lexer": "python3"
  }
 },
 "nbformat": 4,
 "nbformat_minor": 5
}
